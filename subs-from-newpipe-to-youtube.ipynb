{
 "cells": [
  {
   "cell_type": "code",
   "execution_count": null,
   "metadata": {
    "vscode": {
     "languageId": "plaintext"
    }
   },
   "outputs": [],
   "source": [
    "import os\n",
    "import json\n",
    "from google.colab import files\n",
    "from googleapiclient.discovery import build\n",
    "from googleapiclient.errors import HttpError\n",
    "from google.oauth2.credentials import Credentials\n",
    "from google_auth_oauthlib.flow import InstalledAppFlow"
   ]
  },
  {
   "cell_type": "code",
   "execution_count": null,
   "metadata": {
    "vscode": {
     "languageId": "plaintext"
    }
   },
   "outputs": [],
   "source": [
    "print(\"Please upload your client_secret.json file\")\n",
    "CLIENT_SECRETS_FILE = files.upload()\n",
    "\n",
    "print(\"Please upload your subscriptions.json file\")\n",
    "SUBSCRIPTIONS_FILE = files.upload()\n",
    "\n",
    "print(\"Done!\")"
   ]
  },
  {
   "cell_type": "code",
   "execution_count": null,
   "metadata": {
    "vscode": {
     "languageId": "plaintext"
    }
   },
   "outputs": [],
   "source": [
    "CLIENT_SECRETS_FILE = '/content/client_secret.json'\n",
    "SUBSCRIPTIONS_FILE = '/content/subscriptions.json'\n",
    "SCOPES = ['https://www.googleapis.com/auth/youtube.force-ssl']"
   ]
  },
  {
   "cell_type": "code",
   "execution_count": null,
   "metadata": {
    "vscode": {
     "languageId": "plaintext"
    }
   },
   "outputs": [],
   "source": [
    "def authenticate():\n",
    "    flow = InstalledAppFlow.from_client_secrets_file(\n",
    "        CLIENT_SECRETS_FILE, SCOPES, redirect_uri='urn:ietf:wg:oauth:2.0:oob')\n",
    "    auth_url, _ = flow.authorization_url(prompt='consent')\n",
    "\n",
    "    print('Please go to this URL: {}'.format(auth_url))\n",
    "    code = input('Enter the authorization code: ')\n",
    "    flow.fetch_token(code=code)\n",
    "\n",
    "    credentials = flow.credentials\n",
    "    return build('youtube', 'v3', credentials=credentials)\n",
    "\n",
    "def read_subscriptions():\n",
    "    with open(SUBSCRIPTIONS_FILE, 'r') as f:\n",
    "        subscriptions_data = json.load(f)\n",
    "    return subscriptions_data\n",
    "\n",
    "def subscribe_to_channel(service, channel_id):\n",
    "    try:\n",
    "        subscription_response = service.subscriptions().insert(\n",
    "            part='snippet',\n",
    "            body={\n",
    "                'snippet': {\n",
    "                    'resourceId': {\n",
    "                        'kind': 'youtube#channel',\n",
    "                        'channelId': channel_id\n",
    "                    }\n",
    "                }\n",
    "            }\n",
    "        ).execute()\n",
    "        print(f'Subscribed to channel ID {channel_id}')\n",
    "    except HttpError as e:\n",
    "        error = json.loads(e.content.decode('utf-8'))['error']\n",
    "        if error['errors'][0]['reason'] == 'subscriptionDuplicate':\n",
    "            print(f'Channel ID {channel_id} is already subscribed.')\n",
    "        else:\n",
    "            print(f'Error subscribing to channel ID {channel_id}: {error}')"
   ]
  },
  {
   "cell_type": "code",
   "execution_count": null,
   "metadata": {
    "vscode": {
     "languageId": "plaintext"
    }
   },
   "outputs": [],
   "source": [
    "youtube_service = authenticate()\n",
    "\n",
    "subscriptions_data = read_subscriptions()\n",
    "\n",
    "for subscription in subscriptions_data['subscriptions']:\n",
    "    channel_url = subscription['url']\n",
    "    channel_id = channel_url.split('/')[-1]  # Extract channel ID from URL\n",
    "    subscribe_to_channel(youtube_service, channel_id)"
   ]
  }
 ],
 "metadata": {
  "language_info": {
   "name": "python"
  }
 },
 "nbformat": 4,
 "nbformat_minor": 2
}
